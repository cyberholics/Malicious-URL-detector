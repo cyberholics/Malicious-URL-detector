{
 "cells": [
  {
   "cell_type": "code",
   "execution_count": 15,
   "id": "8fcb00fd",
   "metadata": {},
   "outputs": [],
   "source": [
    "#Import necessary libraries\n",
    "import pandas as pd #data manipulation\n",
    "import numpy as np # numerical python\n",
    "import seaborn as sns #data visualization\n",
    "from nltk.tokenize import RegexpTokenizer #splits a string into substrings using a regular expression\n",
    "from nltk.stem.snowball import SnowballStemmer # help improve the efficiency of text analysis and information retrieval systems\n",
    "from sklearn.feature_extraction.text import CountVectorizer # Transform text into mumerical features by creating a sparse matrix of words\n",
    "from sklearn.model_selection import train_test_split # spliting the data in to train and test sets\n",
    "from sklearn.linear_model import LogisticRegression #logistic regression algorithm\n",
    "from sklearn.svm import SVC #support vector machine algorithm\n",
    "from sklearn.naive_bayes import MultinomialNB # naive bayes algorithm\n",
    "from sklearn.tree import DecisionTreeClassifier #decision tree algorithm\n",
    "from sklearn.pipeline import make_pipeline # Machine learning pipeline used for combining all preprocessor techniques and model training \n"
   ]
  },
  {
   "cell_type": "markdown",
   "id": "ceda98fe",
   "metadata": {},
   "source": [
    "## Data Exploration"
   ]
  },
  {
   "cell_type": "code",
   "execution_count": 16,
   "id": "a5c0659d",
   "metadata": {},
   "outputs": [],
   "source": [
    "df=pd.read_csv(\"phishing_site_urls.csv\")"
   ]
  },
  {
   "cell_type": "code",
   "execution_count": 17,
   "id": "73a82a3e",
   "metadata": {},
   "outputs": [
    {
     "data": {
      "text/html": [
       "<div>\n",
       "<style scoped>\n",
       "    .dataframe tbody tr th:only-of-type {\n",
       "        vertical-align: middle;\n",
       "    }\n",
       "\n",
       "    .dataframe tbody tr th {\n",
       "        vertical-align: top;\n",
       "    }\n",
       "\n",
       "    .dataframe thead th {\n",
       "        text-align: right;\n",
       "    }\n",
       "</style>\n",
       "<table border=\"1\" class=\"dataframe\">\n",
       "  <thead>\n",
       "    <tr style=\"text-align: right;\">\n",
       "      <th></th>\n",
       "      <th>URL</th>\n",
       "      <th>Label</th>\n",
       "    </tr>\n",
       "  </thead>\n",
       "  <tbody>\n",
       "    <tr>\n",
       "      <th>0</th>\n",
       "      <td>nobell.it/70ffb52d079109dca5664cce6f317373782/...</td>\n",
       "      <td>bad</td>\n",
       "    </tr>\n",
       "    <tr>\n",
       "      <th>1</th>\n",
       "      <td>www.dghjdgf.com/paypal.co.uk/cycgi-bin/webscrc...</td>\n",
       "      <td>bad</td>\n",
       "    </tr>\n",
       "    <tr>\n",
       "      <th>2</th>\n",
       "      <td>serviciosbys.com/paypal.cgi.bin.get-into.herf....</td>\n",
       "      <td>bad</td>\n",
       "    </tr>\n",
       "    <tr>\n",
       "      <th>3</th>\n",
       "      <td>mail.printakid.com/www.online.americanexpress....</td>\n",
       "      <td>bad</td>\n",
       "    </tr>\n",
       "    <tr>\n",
       "      <th>4</th>\n",
       "      <td>thewhiskeydregs.com/wp-content/themes/widescre...</td>\n",
       "      <td>bad</td>\n",
       "    </tr>\n",
       "    <tr>\n",
       "      <th>...</th>\n",
       "      <td>...</td>\n",
       "      <td>...</td>\n",
       "    </tr>\n",
       "    <tr>\n",
       "      <th>549841</th>\n",
       "      <td>cam.ac.uk</td>\n",
       "      <td>good</td>\n",
       "    </tr>\n",
       "    <tr>\n",
       "      <th>549842</th>\n",
       "      <td>over-blog-kiwi.com</td>\n",
       "      <td>good</td>\n",
       "    </tr>\n",
       "    <tr>\n",
       "      <th>549843</th>\n",
       "      <td>merriam-webster.com</td>\n",
       "      <td>good</td>\n",
       "    </tr>\n",
       "    <tr>\n",
       "      <th>549844</th>\n",
       "      <td>bp3.blogger.com</td>\n",
       "      <td>good</td>\n",
       "    </tr>\n",
       "    <tr>\n",
       "      <th>549845</th>\n",
       "      <td>kinja.com</td>\n",
       "      <td>good</td>\n",
       "    </tr>\n",
       "  </tbody>\n",
       "</table>\n",
       "<p>549846 rows × 2 columns</p>\n",
       "</div>"
      ],
      "text/plain": [
       "                                                      URL Label\n",
       "0       nobell.it/70ffb52d079109dca5664cce6f317373782/...   bad\n",
       "1       www.dghjdgf.com/paypal.co.uk/cycgi-bin/webscrc...   bad\n",
       "2       serviciosbys.com/paypal.cgi.bin.get-into.herf....   bad\n",
       "3       mail.printakid.com/www.online.americanexpress....   bad\n",
       "4       thewhiskeydregs.com/wp-content/themes/widescre...   bad\n",
       "...                                                   ...   ...\n",
       "549841                                          cam.ac.uk  good\n",
       "549842                                 over-blog-kiwi.com  good\n",
       "549843                                merriam-webster.com  good\n",
       "549844                                    bp3.blogger.com  good\n",
       "549845                                          kinja.com  good\n",
       "\n",
       "[549846 rows x 2 columns]"
      ]
     },
     "execution_count": 17,
     "metadata": {},
     "output_type": "execute_result"
    }
   ],
   "source": [
    "df"
   ]
  },
  {
   "cell_type": "code",
   "execution_count": 18,
   "id": "693d0c3a",
   "metadata": {},
   "outputs": [
    {
     "data": {
      "text/plain": [
       "(549846, 2)"
      ]
     },
     "execution_count": 18,
     "metadata": {},
     "output_type": "execute_result"
    }
   ],
   "source": [
    "df.shape"
   ]
  },
  {
   "cell_type": "code",
   "execution_count": 19,
   "id": "940cb569",
   "metadata": {},
   "outputs": [
    {
     "data": {
      "text/plain": [
       "URL      0\n",
       "Label    0\n",
       "dtype: int64"
      ]
     },
     "execution_count": 19,
     "metadata": {},
     "output_type": "execute_result"
    }
   ],
   "source": [
    "df.isnull().sum()"
   ]
  },
  {
   "cell_type": "code",
   "execution_count": 20,
   "id": "0221ddd0",
   "metadata": {},
   "outputs": [],
   "source": [
    "df=df.sample(frac=1).reset_index(drop=True)"
   ]
  },
  {
   "cell_type": "code",
   "execution_count": 21,
   "id": "852c3143",
   "metadata": {},
   "outputs": [],
   "source": [
    "df.columns=df.columns.str.lower()"
   ]
  },
  {
   "cell_type": "code",
   "execution_count": 22,
   "id": "1cb43ddb",
   "metadata": {},
   "outputs": [
    {
     "data": {
      "text/html": [
       "<div>\n",
       "<style scoped>\n",
       "    .dataframe tbody tr th:only-of-type {\n",
       "        vertical-align: middle;\n",
       "    }\n",
       "\n",
       "    .dataframe tbody tr th {\n",
       "        vertical-align: top;\n",
       "    }\n",
       "\n",
       "    .dataframe thead th {\n",
       "        text-align: right;\n",
       "    }\n",
       "</style>\n",
       "<table border=\"1\" class=\"dataframe\">\n",
       "  <thead>\n",
       "    <tr style=\"text-align: right;\">\n",
       "      <th></th>\n",
       "      <th>url</th>\n",
       "      <th>label</th>\n",
       "    </tr>\n",
       "  </thead>\n",
       "  <tbody>\n",
       "    <tr>\n",
       "      <th>0</th>\n",
       "      <td>ulstyle.com/</td>\n",
       "      <td>good</td>\n",
       "    </tr>\n",
       "    <tr>\n",
       "      <th>1</th>\n",
       "      <td>thecanadianencyclopedia.com/index.cfm?PgNm=TCE...</td>\n",
       "      <td>good</td>\n",
       "    </tr>\n",
       "    <tr>\n",
       "      <th>2</th>\n",
       "      <td>mazatlanapartments.com/js/godwin</td>\n",
       "      <td>bad</td>\n",
       "    </tr>\n",
       "    <tr>\n",
       "      <th>3</th>\n",
       "      <td>08rc7ct3ka.pikirykopydppa.com/u7gazwyv5s\\nvell...</td>\n",
       "      <td>bad</td>\n",
       "    </tr>\n",
       "    <tr>\n",
       "      <th>4</th>\n",
       "      <td>rocklandleasing.com/street/image.htm</td>\n",
       "      <td>bad</td>\n",
       "    </tr>\n",
       "    <tr>\n",
       "      <th>...</th>\n",
       "      <td>...</td>\n",
       "      <td>...</td>\n",
       "    </tr>\n",
       "    <tr>\n",
       "      <th>549841</th>\n",
       "      <td>answers.com/topic/snare-drum</td>\n",
       "      <td>good</td>\n",
       "    </tr>\n",
       "    <tr>\n",
       "      <th>549842</th>\n",
       "      <td>msn.foxsports.com/collegefootball/story/USCs-S...</td>\n",
       "      <td>good</td>\n",
       "    </tr>\n",
       "    <tr>\n",
       "      <th>549843</th>\n",
       "      <td>veganvet.net/west-los-angeles-veterinary-pract...</td>\n",
       "      <td>bad</td>\n",
       "    </tr>\n",
       "    <tr>\n",
       "      <th>549844</th>\n",
       "      <td>picsearch.com/pictures/athletes%2C%20male/wint...</td>\n",
       "      <td>good</td>\n",
       "    </tr>\n",
       "    <tr>\n",
       "      <th>549845</th>\n",
       "      <td>alarmy.bydgoszcz.pl/webmail/redir.php?ssl.alle...</td>\n",
       "      <td>bad</td>\n",
       "    </tr>\n",
       "  </tbody>\n",
       "</table>\n",
       "<p>549846 rows × 2 columns</p>\n",
       "</div>"
      ],
      "text/plain": [
       "                                                      url label\n",
       "0                                            ulstyle.com/  good\n",
       "1       thecanadianencyclopedia.com/index.cfm?PgNm=TCE...  good\n",
       "2                        mazatlanapartments.com/js/godwin   bad\n",
       "3       08rc7ct3ka.pikirykopydppa.com/u7gazwyv5s\\nvell...   bad\n",
       "4                    rocklandleasing.com/street/image.htm   bad\n",
       "...                                                   ...   ...\n",
       "549841                       answers.com/topic/snare-drum  good\n",
       "549842  msn.foxsports.com/collegefootball/story/USCs-S...  good\n",
       "549843  veganvet.net/west-los-angeles-veterinary-pract...   bad\n",
       "549844  picsearch.com/pictures/athletes%2C%20male/wint...  good\n",
       "549845  alarmy.bydgoszcz.pl/webmail/redir.php?ssl.alle...   bad\n",
       "\n",
       "[549846 rows x 2 columns]"
      ]
     },
     "execution_count": 22,
     "metadata": {},
     "output_type": "execute_result"
    }
   ],
   "source": [
    "df"
   ]
  },
  {
   "cell_type": "code",
   "execution_count": 23,
   "id": "0385bba6",
   "metadata": {},
   "outputs": [
    {
     "name": "stdout",
     "output_type": "stream",
     "text": [
      "good    393424\n",
      "bad     156422\n",
      "Name: label, dtype: int64\n"
     ]
    }
   ],
   "source": [
    "label_counts=df[\"label\"].value_counts()\n",
    "print(label_counts)"
   ]
  },
  {
   "cell_type": "code",
   "execution_count": 24,
   "id": "cf4c5634",
   "metadata": {},
   "outputs": [
    {
     "data": {
      "text/plain": [
       "Index(['good', 'bad'], dtype='object')"
      ]
     },
     "execution_count": 24,
     "metadata": {},
     "output_type": "execute_result"
    }
   ],
   "source": [
    "label_counts.index"
   ]
  },
  {
   "cell_type": "code",
   "execution_count": 25,
   "id": "b8086088",
   "metadata": {},
   "outputs": [
    {
     "name": "stderr",
     "output_type": "stream",
     "text": [
      "/Users/victoroshimua/anaconda3/lib/python3.9/site-packages/seaborn/_decorators.py:36: FutureWarning: Pass the following variables as keyword args: x, y. From version 0.12, the only valid positional argument will be `data`, and passing other arguments without an explicit keyword will result in an error or misinterpretation.\n",
      "  warnings.warn(\n"
     ]
    },
    {
     "data": {
      "text/plain": [
       "<AxesSubplot:>"
      ]
     },
     "execution_count": 25,
     "metadata": {},
     "output_type": "execute_result"
    },
    {
     "data": {
      "image/png": "[encoded data removed]",
      "text/plain": [
       "<Figure size 432x288 with 1 Axes>"
      ]
     },
     "metadata": {
      "needs_background": "light"
     },
     "output_type": "display_data"
    }
   ],
   "source": [
    "sns.barplot(label_counts.index,label_counts.values)"
   ]
  },
  {
   "cell_type": "markdown",
   "id": "8ee61a02",
   "metadata": {},
   "source": [
    "## Data preprocessing"
   ]
  },
  {
   "cell_type": "code",
   "execution_count": 26,
   "id": "ca5e567b",
   "metadata": {},
   "outputs": [
    {
     "data": {
      "text/html": [
       "<div>\n",
       "<style scoped>\n",
       "    .dataframe tbody tr th:only-of-type {\n",
       "        vertical-align: middle;\n",
       "    }\n",
       "\n",
       "    .dataframe tbody tr th {\n",
       "        vertical-align: top;\n",
       "    }\n",
       "\n",
       "    .dataframe thead th {\n",
       "        text-align: right;\n",
       "    }\n",
       "</style>\n",
       "<table border=\"1\" class=\"dataframe\">\n",
       "  <thead>\n",
       "    <tr style=\"text-align: right;\">\n",
       "      <th></th>\n",
       "      <th>url</th>\n",
       "      <th>label</th>\n",
       "      <th>url_tokenized</th>\n",
       "    </tr>\n",
       "  </thead>\n",
       "  <tbody>\n",
       "    <tr>\n",
       "      <th>0</th>\n",
       "      <td>ulstyle.com/</td>\n",
       "      <td>good</td>\n",
       "      <td>[ulstyle, com]</td>\n",
       "    </tr>\n",
       "    <tr>\n",
       "      <th>1</th>\n",
       "      <td>thecanadianencyclopedia.com/index.cfm?PgNm=TCE...</td>\n",
       "      <td>good</td>\n",
       "      <td>[thecanadianencyclopedia, com, index, cfm, PgN...</td>\n",
       "    </tr>\n",
       "    <tr>\n",
       "      <th>2</th>\n",
       "      <td>mazatlanapartments.com/js/godwin</td>\n",
       "      <td>bad</td>\n",
       "      <td>[mazatlanapartments, com, js, godwin]</td>\n",
       "    </tr>\n",
       "    <tr>\n",
       "      <th>3</th>\n",
       "      <td>08rc7ct3ka.pikirykopydppa.com/u7gazwyv5s\\nvell...</td>\n",
       "      <td>bad</td>\n",
       "      <td>[rc, ct, ka, pikirykopydppa, com, u, gazwyv, s...</td>\n",
       "    </tr>\n",
       "    <tr>\n",
       "      <th>4</th>\n",
       "      <td>rocklandleasing.com/street/image.htm</td>\n",
       "      <td>bad</td>\n",
       "      <td>[rocklandleasing, com, street, image, htm]</td>\n",
       "    </tr>\n",
       "    <tr>\n",
       "      <th>...</th>\n",
       "      <td>...</td>\n",
       "      <td>...</td>\n",
       "      <td>...</td>\n",
       "    </tr>\n",
       "    <tr>\n",
       "      <th>549841</th>\n",
       "      <td>answers.com/topic/snare-drum</td>\n",
       "      <td>good</td>\n",
       "      <td>[answers, com, topic, snare, drum]</td>\n",
       "    </tr>\n",
       "    <tr>\n",
       "      <th>549842</th>\n",
       "      <td>msn.foxsports.com/collegefootball/story/USCs-S...</td>\n",
       "      <td>good</td>\n",
       "      <td>[msn, foxsports, com, collegefootball, story, ...</td>\n",
       "    </tr>\n",
       "    <tr>\n",
       "      <th>549843</th>\n",
       "      <td>veganvet.net/west-los-angeles-veterinary-pract...</td>\n",
       "      <td>bad</td>\n",
       "      <td>[veganvet, net, west, los, angeles, veterinary...</td>\n",
       "    </tr>\n",
       "    <tr>\n",
       "      <th>549844</th>\n",
       "      <td>picsearch.com/pictures/athletes%2C%20male/wint...</td>\n",
       "      <td>good</td>\n",
       "      <td>[picsearch, com, pictures, athletes, C, male, ...</td>\n",
       "    </tr>\n",
       "    <tr>\n",
       "      <th>549845</th>\n",
       "      <td>alarmy.bydgoszcz.pl/webmail/redir.php?ssl.alle...</td>\n",
       "      <td>bad</td>\n",
       "      <td>[alarmy, bydgoszcz, pl, webmail, redir, php, s...</td>\n",
       "    </tr>\n",
       "  </tbody>\n",
       "</table>\n",
       "<p>549846 rows × 3 columns</p>\n",
       "</div>"
      ],
      "text/plain": [
       "                                                      url label  \\\n",
       "0                                            ulstyle.com/  good   \n",
       "1       thecanadianencyclopedia.com/index.cfm?PgNm=TCE...  good   \n",
       "2                        mazatlanapartments.com/js/godwin   bad   \n",
       "3       08rc7ct3ka.pikirykopydppa.com/u7gazwyv5s\\nvell...   bad   \n",
       "4                    rocklandleasing.com/street/image.htm   bad   \n",
       "...                                                   ...   ...   \n",
       "549841                       answers.com/topic/snare-drum  good   \n",
       "549842  msn.foxsports.com/collegefootball/story/USCs-S...  good   \n",
       "549843  veganvet.net/west-los-angeles-veterinary-pract...   bad   \n",
       "549844  picsearch.com/pictures/athletes%2C%20male/wint...  good   \n",
       "549845  alarmy.bydgoszcz.pl/webmail/redir.php?ssl.alle...   bad   \n",
       "\n",
       "                                            url_tokenized  \n",
       "0                                          [ulstyle, com]  \n",
       "1       [thecanadianencyclopedia, com, index, cfm, PgN...  \n",
       "2                   [mazatlanapartments, com, js, godwin]  \n",
       "3       [rc, ct, ka, pikirykopydppa, com, u, gazwyv, s...  \n",
       "4              [rocklandleasing, com, street, image, htm]  \n",
       "...                                                   ...  \n",
       "549841                 [answers, com, topic, snare, drum]  \n",
       "549842  [msn, foxsports, com, collegefootball, story, ...  \n",
       "549843  [veganvet, net, west, los, angeles, veterinary...  \n",
       "549844  [picsearch, com, pictures, athletes, C, male, ...  \n",
       "549845  [alarmy, bydgoszcz, pl, webmail, redir, php, s...  \n",
       "\n",
       "[549846 rows x 3 columns]"
      ]
     },
     "execution_count": 26,
     "metadata": {},
     "output_type": "execute_result"
    }
   ],
   "source": [
    "# Remove numbers  and symbols from the data and leave only the string\n",
    "tokenizer=RegexpTokenizer(r'[A-Za-z]+')\n",
    "df[\"url_tokenized\"]=df[\"url\"].map(lambda text: tokenizer.tokenize(text))\n",
    "df"
   ]
  },
  {
   "cell_type": "code",
   "execution_count": 27,
   "id": "b20d4ba9",
   "metadata": {},
   "outputs": [
    {
     "data": {
      "text/html": [
       "<div>\n",
       "<style scoped>\n",
       "    .dataframe tbody tr th:only-of-type {\n",
       "        vertical-align: middle;\n",
       "    }\n",
       "\n",
       "    .dataframe tbody tr th {\n",
       "        vertical-align: top;\n",
       "    }\n",
       "\n",
       "    .dataframe thead th {\n",
       "        text-align: right;\n",
       "    }\n",
       "</style>\n",
       "<table border=\"1\" class=\"dataframe\">\n",
       "  <thead>\n",
       "    <tr style=\"text-align: right;\">\n",
       "      <th></th>\n",
       "      <th>url</th>\n",
       "      <th>label</th>\n",
       "      <th>url_tokenized</th>\n",
       "      <th>url_stemmed</th>\n",
       "    </tr>\n",
       "  </thead>\n",
       "  <tbody>\n",
       "    <tr>\n",
       "      <th>0</th>\n",
       "      <td>ulstyle.com/</td>\n",
       "      <td>good</td>\n",
       "      <td>[ulstyle, com]</td>\n",
       "      <td>[ulstyl, com]</td>\n",
       "    </tr>\n",
       "    <tr>\n",
       "      <th>1</th>\n",
       "      <td>thecanadianencyclopedia.com/index.cfm?PgNm=TCE...</td>\n",
       "      <td>good</td>\n",
       "      <td>[thecanadianencyclopedia, com, index, cfm, PgN...</td>\n",
       "      <td>[thecanadianencyclopedia, com, index, cfm, pgn...</td>\n",
       "    </tr>\n",
       "    <tr>\n",
       "      <th>2</th>\n",
       "      <td>mazatlanapartments.com/js/godwin</td>\n",
       "      <td>bad</td>\n",
       "      <td>[mazatlanapartments, com, js, godwin]</td>\n",
       "      <td>[mazatlanapart, com, js, godwin]</td>\n",
       "    </tr>\n",
       "    <tr>\n",
       "      <th>3</th>\n",
       "      <td>08rc7ct3ka.pikirykopydppa.com/u7gazwyv5s\\nvell...</td>\n",
       "      <td>bad</td>\n",
       "      <td>[rc, ct, ka, pikirykopydppa, com, u, gazwyv, s...</td>\n",
       "      <td>[rc, ct, ka, pikirykopydppa, com, u, gazwyv, s...</td>\n",
       "    </tr>\n",
       "    <tr>\n",
       "      <th>4</th>\n",
       "      <td>rocklandleasing.com/street/image.htm</td>\n",
       "      <td>bad</td>\n",
       "      <td>[rocklandleasing, com, street, image, htm]</td>\n",
       "      <td>[rocklandleas, com, street, imag, htm]</td>\n",
       "    </tr>\n",
       "    <tr>\n",
       "      <th>...</th>\n",
       "      <td>...</td>\n",
       "      <td>...</td>\n",
       "      <td>...</td>\n",
       "      <td>...</td>\n",
       "    </tr>\n",
       "    <tr>\n",
       "      <th>549841</th>\n",
       "      <td>answers.com/topic/snare-drum</td>\n",
       "      <td>good</td>\n",
       "      <td>[answers, com, topic, snare, drum]</td>\n",
       "      <td>[answer, com, topic, snare, drum]</td>\n",
       "    </tr>\n",
       "    <tr>\n",
       "      <th>549842</th>\n",
       "      <td>msn.foxsports.com/collegefootball/story/USCs-S...</td>\n",
       "      <td>good</td>\n",
       "      <td>[msn, foxsports, com, collegefootball, story, ...</td>\n",
       "      <td>[msn, foxsport, com, collegefootbal, stori, us...</td>\n",
       "    </tr>\n",
       "    <tr>\n",
       "      <th>549843</th>\n",
       "      <td>veganvet.net/west-los-angeles-veterinary-pract...</td>\n",
       "      <td>bad</td>\n",
       "      <td>[veganvet, net, west, los, angeles, veterinary...</td>\n",
       "      <td>[veganvet, net, west, los, angel, veterinari, ...</td>\n",
       "    </tr>\n",
       "    <tr>\n",
       "      <th>549844</th>\n",
       "      <td>picsearch.com/pictures/athletes%2C%20male/wint...</td>\n",
       "      <td>good</td>\n",
       "      <td>[picsearch, com, pictures, athletes, C, male, ...</td>\n",
       "      <td>[picsearch, com, pictur, athlet, c, male, wint...</td>\n",
       "    </tr>\n",
       "    <tr>\n",
       "      <th>549845</th>\n",
       "      <td>alarmy.bydgoszcz.pl/webmail/redir.php?ssl.alle...</td>\n",
       "      <td>bad</td>\n",
       "      <td>[alarmy, bydgoszcz, pl, webmail, redir, php, s...</td>\n",
       "      <td>[alarmi, bydgoszcz, pl, webmail, redir, php, s...</td>\n",
       "    </tr>\n",
       "  </tbody>\n",
       "</table>\n",
       "<p>549846 rows × 4 columns</p>\n",
       "</div>"
      ],
      "text/plain": [
       "                                                      url label  \\\n",
       "0                                            ulstyle.com/  good   \n",
       "1       thecanadianencyclopedia.com/index.cfm?PgNm=TCE...  good   \n",
       "2                        mazatlanapartments.com/js/godwin   bad   \n",
       "3       08rc7ct3ka.pikirykopydppa.com/u7gazwyv5s\\nvell...   bad   \n",
       "4                    rocklandleasing.com/street/image.htm   bad   \n",
       "...                                                   ...   ...   \n",
       "549841                       answers.com/topic/snare-drum  good   \n",
       "549842  msn.foxsports.com/collegefootball/story/USCs-S...  good   \n",
       "549843  veganvet.net/west-los-angeles-veterinary-pract...   bad   \n",
       "549844  picsearch.com/pictures/athletes%2C%20male/wint...  good   \n",
       "549845  alarmy.bydgoszcz.pl/webmail/redir.php?ssl.alle...   bad   \n",
       "\n",
       "                                            url_tokenized  \\\n",
       "0                                          [ulstyle, com]   \n",
       "1       [thecanadianencyclopedia, com, index, cfm, PgN...   \n",
       "2                   [mazatlanapartments, com, js, godwin]   \n",
       "3       [rc, ct, ka, pikirykopydppa, com, u, gazwyv, s...   \n",
       "4              [rocklandleasing, com, street, image, htm]   \n",
       "...                                                   ...   \n",
       "549841                 [answers, com, topic, snare, drum]   \n",
       "549842  [msn, foxsports, com, collegefootball, story, ...   \n",
       "549843  [veganvet, net, west, los, angeles, veterinary...   \n",
       "549844  [picsearch, com, pictures, athletes, C, male, ...   \n",
       "549845  [alarmy, bydgoszcz, pl, webmail, redir, php, s...   \n",
       "\n",
       "                                              url_stemmed  \n",
       "0                                           [ulstyl, com]  \n",
       "1       [thecanadianencyclopedia, com, index, cfm, pgn...  \n",
       "2                        [mazatlanapart, com, js, godwin]  \n",
       "3       [rc, ct, ka, pikirykopydppa, com, u, gazwyv, s...  \n",
       "4                  [rocklandleas, com, street, imag, htm]  \n",
       "...                                                   ...  \n",
       "549841                  [answer, com, topic, snare, drum]  \n",
       "549842  [msn, foxsport, com, collegefootbal, stori, us...  \n",
       "549843  [veganvet, net, west, los, angel, veterinari, ...  \n",
       "549844  [picsearch, com, pictur, athlet, c, male, wint...  \n",
       "549845  [alarmi, bydgoszcz, pl, webmail, redir, php, s...  \n",
       "\n",
       "[549846 rows x 4 columns]"
      ]
     },
     "execution_count": 27,
     "metadata": {},
     "output_type": "execute_result"
    }
   ],
   "source": [
    "# Snowball stemmer to get the root words out of tokenized url\n",
    "stemmer= SnowballStemmer(\"english\")\n",
    "df['url_stemmed'] =df['url_tokenized'].map(lambda text: [stemmer.stem(word) for word in text])\n",
    "df"
   ]
  },
  {
   "cell_type": "code",
   "execution_count": 28,
   "id": "18aa759c",
   "metadata": {},
   "outputs": [
    {
     "data": {
      "text/html": [
       "<div>\n",
       "<style scoped>\n",
       "    .dataframe tbody tr th:only-of-type {\n",
       "        vertical-align: middle;\n",
       "    }\n",
       "\n",
       "    .dataframe tbody tr th {\n",
       "        vertical-align: top;\n",
       "    }\n",
       "\n",
       "    .dataframe thead th {\n",
       "        text-align: right;\n",
       "    }\n",
       "</style>\n",
       "<table border=\"1\" class=\"dataframe\">\n",
       "  <thead>\n",
       "    <tr style=\"text-align: right;\">\n",
       "      <th></th>\n",
       "      <th>url</th>\n",
       "      <th>label</th>\n",
       "      <th>url_tokenized</th>\n",
       "      <th>url_stemmed</th>\n",
       "      <th>url_text</th>\n",
       "    </tr>\n",
       "  </thead>\n",
       "  <tbody>\n",
       "    <tr>\n",
       "      <th>0</th>\n",
       "      <td>ulstyle.com/</td>\n",
       "      <td>good</td>\n",
       "      <td>[ulstyle, com]</td>\n",
       "      <td>[ulstyl, com]</td>\n",
       "      <td>ulstyl com</td>\n",
       "    </tr>\n",
       "    <tr>\n",
       "      <th>1</th>\n",
       "      <td>thecanadianencyclopedia.com/index.cfm?PgNm=TCE...</td>\n",
       "      <td>good</td>\n",
       "      <td>[thecanadianencyclopedia, com, index, cfm, PgN...</td>\n",
       "      <td>[thecanadianencyclopedia, com, index, cfm, pgn...</td>\n",
       "      <td>thecanadianencyclopedia com index cfm pgnm tce...</td>\n",
       "    </tr>\n",
       "    <tr>\n",
       "      <th>2</th>\n",
       "      <td>mazatlanapartments.com/js/godwin</td>\n",
       "      <td>bad</td>\n",
       "      <td>[mazatlanapartments, com, js, godwin]</td>\n",
       "      <td>[mazatlanapart, com, js, godwin]</td>\n",
       "      <td>mazatlanapart com js godwin</td>\n",
       "    </tr>\n",
       "    <tr>\n",
       "      <th>3</th>\n",
       "      <td>08rc7ct3ka.pikirykopydppa.com/u7gazwyv5s\\nvell...</td>\n",
       "      <td>bad</td>\n",
       "      <td>[rc, ct, ka, pikirykopydppa, com, u, gazwyv, s...</td>\n",
       "      <td>[rc, ct, ka, pikirykopydppa, com, u, gazwyv, s...</td>\n",
       "      <td>rc ct ka pikirykopydppa com u gazwyv s nvellej...</td>\n",
       "    </tr>\n",
       "    <tr>\n",
       "      <th>4</th>\n",
       "      <td>rocklandleasing.com/street/image.htm</td>\n",
       "      <td>bad</td>\n",
       "      <td>[rocklandleasing, com, street, image, htm]</td>\n",
       "      <td>[rocklandleas, com, street, imag, htm]</td>\n",
       "      <td>rocklandleas com street imag htm</td>\n",
       "    </tr>\n",
       "    <tr>\n",
       "      <th>...</th>\n",
       "      <td>...</td>\n",
       "      <td>...</td>\n",
       "      <td>...</td>\n",
       "      <td>...</td>\n",
       "      <td>...</td>\n",
       "    </tr>\n",
       "    <tr>\n",
       "      <th>549841</th>\n",
       "      <td>answers.com/topic/snare-drum</td>\n",
       "      <td>good</td>\n",
       "      <td>[answers, com, topic, snare, drum]</td>\n",
       "      <td>[answer, com, topic, snare, drum]</td>\n",
       "      <td>answer com topic snare drum</td>\n",
       "    </tr>\n",
       "    <tr>\n",
       "      <th>549842</th>\n",
       "      <td>msn.foxsports.com/collegefootball/story/USCs-S...</td>\n",
       "      <td>good</td>\n",
       "      <td>[msn, foxsports, com, collegefootball, story, ...</td>\n",
       "      <td>[msn, foxsport, com, collegefootbal, stori, us...</td>\n",
       "      <td>msn foxsport com collegefootbal stori usc sam ...</td>\n",
       "    </tr>\n",
       "    <tr>\n",
       "      <th>549843</th>\n",
       "      <td>veganvet.net/west-los-angeles-veterinary-pract...</td>\n",
       "      <td>bad</td>\n",
       "      <td>[veganvet, net, west, los, angeles, veterinary...</td>\n",
       "      <td>[veganvet, net, west, los, angel, veterinari, ...</td>\n",
       "      <td>veganvet net west los angel veterinari practic</td>\n",
       "    </tr>\n",
       "    <tr>\n",
       "      <th>549844</th>\n",
       "      <td>picsearch.com/pictures/athletes%2C%20male/wint...</td>\n",
       "      <td>good</td>\n",
       "      <td>[picsearch, com, pictures, athletes, C, male, ...</td>\n",
       "      <td>[picsearch, com, pictur, athlet, c, male, wint...</td>\n",
       "      <td>picsearch com pictur athlet c male winter spor...</td>\n",
       "    </tr>\n",
       "    <tr>\n",
       "      <th>549845</th>\n",
       "      <td>alarmy.bydgoszcz.pl/webmail/redir.php?ssl.alle...</td>\n",
       "      <td>bad</td>\n",
       "      <td>[alarmy, bydgoszcz, pl, webmail, redir, php, s...</td>\n",
       "      <td>[alarmi, bydgoszcz, pl, webmail, redir, php, s...</td>\n",
       "      <td>alarmi bydgoszcz pl webmail redir php ssl alle...</td>\n",
       "    </tr>\n",
       "  </tbody>\n",
       "</table>\n",
       "<p>549846 rows × 5 columns</p>\n",
       "</div>"
      ],
      "text/plain": [
       "                                                      url label  \\\n",
       "0                                            ulstyle.com/  good   \n",
       "1       thecanadianencyclopedia.com/index.cfm?PgNm=TCE...  good   \n",
       "2                        mazatlanapartments.com/js/godwin   bad   \n",
       "3       08rc7ct3ka.pikirykopydppa.com/u7gazwyv5s\\nvell...   bad   \n",
       "4                    rocklandleasing.com/street/image.htm   bad   \n",
       "...                                                   ...   ...   \n",
       "549841                       answers.com/topic/snare-drum  good   \n",
       "549842  msn.foxsports.com/collegefootball/story/USCs-S...  good   \n",
       "549843  veganvet.net/west-los-angeles-veterinary-pract...   bad   \n",
       "549844  picsearch.com/pictures/athletes%2C%20male/wint...  good   \n",
       "549845  alarmy.bydgoszcz.pl/webmail/redir.php?ssl.alle...   bad   \n",
       "\n",
       "                                            url_tokenized  \\\n",
       "0                                          [ulstyle, com]   \n",
       "1       [thecanadianencyclopedia, com, index, cfm, PgN...   \n",
       "2                   [mazatlanapartments, com, js, godwin]   \n",
       "3       [rc, ct, ka, pikirykopydppa, com, u, gazwyv, s...   \n",
       "4              [rocklandleasing, com, street, image, htm]   \n",
       "...                                                   ...   \n",
       "549841                 [answers, com, topic, snare, drum]   \n",
       "549842  [msn, foxsports, com, collegefootball, story, ...   \n",
       "549843  [veganvet, net, west, los, angeles, veterinary...   \n",
       "549844  [picsearch, com, pictures, athletes, C, male, ...   \n",
       "549845  [alarmy, bydgoszcz, pl, webmail, redir, php, s...   \n",
       "\n",
       "                                              url_stemmed  \\\n",
       "0                                           [ulstyl, com]   \n",
       "1       [thecanadianencyclopedia, com, index, cfm, pgn...   \n",
       "2                        [mazatlanapart, com, js, godwin]   \n",
       "3       [rc, ct, ka, pikirykopydppa, com, u, gazwyv, s...   \n",
       "4                  [rocklandleas, com, street, imag, htm]   \n",
       "...                                                   ...   \n",
       "549841                  [answer, com, topic, snare, drum]   \n",
       "549842  [msn, foxsport, com, collegefootbal, stori, us...   \n",
       "549843  [veganvet, net, west, los, angel, veterinari, ...   \n",
       "549844  [picsearch, com, pictur, athlet, c, male, wint...   \n",
       "549845  [alarmi, bydgoszcz, pl, webmail, redir, php, s...   \n",
       "\n",
       "                                                 url_text  \n",
       "0                                              ulstyl com  \n",
       "1       thecanadianencyclopedia com index cfm pgnm tce...  \n",
       "2                             mazatlanapart com js godwin  \n",
       "3       rc ct ka pikirykopydppa com u gazwyv s nvellej...  \n",
       "4                        rocklandleas com street imag htm  \n",
       "...                                                   ...  \n",
       "549841                        answer com topic snare drum  \n",
       "549842  msn foxsport com collegefootbal stori usc sam ...  \n",
       "549843     veganvet net west los angel veterinari practic  \n",
       "549844  picsearch com pictur athlet c male winter spor...  \n",
       "549845  alarmi bydgoszcz pl webmail redir php ssl alle...  \n",
       "\n",
       "[549846 rows x 5 columns]"
      ]
     },
     "execution_count": 28,
     "metadata": {},
     "output_type": "execute_result"
    }
   ],
   "source": [
    "# Join the stemmed words together as a sentence\n",
    "df['url_text'] = df['url_stemmed'].map(lambda text: ' '.join(text))\n",
    "df"
   ]
  },
  {
   "cell_type": "code",
   "execution_count": 29,
   "id": "ef56d732",
   "metadata": {},
   "outputs": [],
   "source": [
    "# Transform text into numerical features \n",
    "CV = CountVectorizer()\n",
    "feature = CV.fit_transform(df[\"url_text\"])"
   ]
  },
  {
   "cell_type": "code",
   "execution_count": 38,
   "id": "7c01310a",
   "metadata": {},
   "outputs": [],
   "source": [
    "# Splitting the data:\n",
    "X_train, X_test, y_train, y_test = train_test_split(feature, df[\"label\"])"
   ]
  },
  {
   "cell_type": "markdown",
   "id": "47bd0121",
   "metadata": {},
   "source": [
    "# Modeling"
   ]
  },
  {
   "cell_type": "code",
   "execution_count": 39,
   "id": "2ff50eb0",
   "metadata": {},
   "outputs": [
    {
     "name": "stderr",
     "output_type": "stream",
     "text": [
      "/Users/victoroshimua/anaconda3/lib/python3.9/site-packages/sklearn/linear_model/_logistic.py:814: ConvergenceWarning: lbfgs failed to converge (status=1):\n",
      "STOP: TOTAL NO. of ITERATIONS REACHED LIMIT.\n",
      "\n",
      "Increase the number of iterations (max_iter) or scale the data as shown in:\n",
      "    https://scikit-learn.org/stable/modules/preprocessing.html\n",
      "Please also refer to the documentation for alternative solver options:\n",
      "    https://scikit-learn.org/stable/modules/linear_model.html#logistic-regression\n",
      "  n_iter_i = _check_optimize_result(\n"
     ]
    },
    {
     "data": {
      "text/plain": [
       "0.964135542913678"
      ]
     },
     "execution_count": 39,
     "metadata": {},
     "output_type": "execute_result"
    }
   ],
   "source": [
    "# logistic regression\n",
    "lr = LogisticRegression()\n",
    "lr.fit(X_train, y_train)\n",
    "lr.score(X_test, y_test)"
   ]
  },
  {
   "cell_type": "code",
   "execution_count": 32,
   "id": "64b85134",
   "metadata": {},
   "outputs": [
    {
     "data": {
      "text/plain": [
       "0.9585630938004684"
      ]
     },
     "execution_count": 32,
     "metadata": {},
     "output_type": "execute_result"
    }
   ],
   "source": [
    "# naive bayes model\n",
    "mnb = MultinomialNB()\n",
    "mnb.fit(X_train, y_train)\n",
    "mnb.score(X_test, y_test)"
   ]
  },
  {
   "cell_type": "markdown",
   "id": "7b945cbc",
   "metadata": {},
   "source": [
    "# Machine learning pipeine for final(best) model"
   ]
  },
  {
   "cell_type": "code",
   "execution_count": 33,
   "id": "78562441",
   "metadata": {},
   "outputs": [],
   "source": [
    "# Making a pipeline:\n",
    "#pipeline_ls = make_pipeline(CountVectorizer(tokenizer = RegexpTokenizer(r'[A-Za-z]+').tokenize, stop_words='english'), LogisticRegression())\n"
   ]
  }
 ],
 "metadata": {
  "kernelspec": {
   "display_name": "Python 3 (ipykernel)",
   "language": "python",
   "name": "python3"
  },
  "language_info": {
   "codemirror_mode": {
    "name": "ipython",
    "version": 3
   },
   "file_extension": ".py",
   "mimetype": "text/x-python",
   "name": "python",
   "nbconvert_exporter": "python",
   "pygments_lexer": "ipython3",
   "version": "3.9.12"
  }
 },
 "nbformat": 4,
 "nbformat_minor": 5
}
